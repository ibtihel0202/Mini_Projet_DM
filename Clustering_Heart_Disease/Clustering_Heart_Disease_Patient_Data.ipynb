{
 "cells": [
  {
   "cell_type": "markdown",
   "metadata": {},
   "source": [
    "<img src=\"pg.png\" height=\"300\" width=\"1000\">"
   ]
  },
  {
   "cell_type": "markdown",
   "metadata": {},
   "source": [
    " # $\\color{#BF536F}{\\text{Introduction Générale}}$\n",
    " "
   ]
  },
  {
   "cell_type": "markdown",
   "metadata": {},
   "source": [
    "Les maladies cardio-vasculaires ont fait l'objet de nombreuses études particulièrement dans les Départements de santé communautaire . \n",
    "Ces études traitent de l'organisation des services , de l'épidémiologie de \n",
    "maladies cardio-vasculaires ou des facteurs de risque .\n",
    "Cette préoccupation pour ce type de maladie est mondiale ,puisqu'elle frappe un nombre important de personnes ."
   ]
  },
  {
   "cell_type": "markdown",
   "metadata": {},
   "source": [
    "Les facteurs de risque des maladies cardio-vasculaires\n",
    "peuvent être classés en deux catégories :\n",
    "\n",
    "les facteurs non-modifiables ou marqueurs du risque c'est-à-dire ceux qui ne sont pas contrôlables sur le plan épidémiologique :\n",
    "- l'âge\n",
    "- le sexe masculin \n",
    "- l'hérédité ou l'histoire familiale \n",
    "\n",
    "les facteurs modifiables , dont l'effet est contrôlable par des interventions : on y retrouve les facteurs majeurs :\n",
    "- le tabagisme \n",
    "- l'hypertension\n",
    "\n",
    "et les autres facteurs : \n",
    "- le diabete\n",
    "- l'obésité \n",
    "- l'inactivité physique\n",
    "- le stresse et la personnalité de type A \n",
    "- l'alcool\n",
    "- les contraceptifs oraux"
   ]
  },
  {
   "cell_type": "markdown",
   "metadata": {},
   "source": [
    " # $\\color{#BF536F}{\\text{Méthodologie}}$"
   ]
  },
  {
   "cell_type": "markdown",
   "metadata": {},
   "source": [
    "Dans cette section, nous présentons les détails de modèle qui a quatre modules diférents"
   ]
  },
  {
   "cell_type": "markdown",
   "metadata": {},
   "source": [
    "<img src=\"arch.png\" height=\"200\" width=\"600\">"
   ]
  },
  {
   "cell_type": "markdown",
   "metadata": {},
   "source": [
    "- Module de préparation des données:\n",
    "\n",
    "- Module de regroupement:\n",
    "\n",
    "- Module de détection d'anomalies\n",
    "\n",
    "- Module de prédiction"
   ]
  },
  {
   "cell_type": "markdown",
   "metadata": {},
   "source": [
    "=> Dans notre travail on va s'intéresser sur le module de clustering"
   ]
  },
  {
   "cell_type": "markdown",
   "metadata": {},
   "source": [
    "## $\\color{#3396FF}{\\text{C'est quoi le Clustering}}$"
   ]
  },
  {
   "cell_type": "markdown",
   "metadata": {},
   "source": [
    "Le clustering est un algorithme basé sur l'apprentissage automatique non supervisé qui comprend un groupe de points de données en clusters afin que les objets appartiennent au même groupe.\n",
    "\n",
    "Le clustering permet de diviser les données en plusieurs sous-ensembles. Chacun de ces sous-ensembles contient des données similaires les unes aux autres, et ces sous-ensembles sont appelés clusters. Maintenant que les données de notre clientèle sont divisées en clusters, nous pouvons prendre une décision éclairée sur qui nous pensons être le mieux adapté pour ce produit."
   ]
  },
  {
   "cell_type": "markdown",
   "metadata": {},
   "source": [
    "- Clustering K-means :\n",
    "\n",
    " L'algorithme K-means détermine le centre d'uncluster comme valeur moyenne des instances au sein de ce cluster. D'abord, au hasardsélectionne K parmi les instances, ce qui représente un center ou cluster signifie dans lebase de données. Chacune des instances résiduelles est affectée au cluster le plus proche en fonctionsur la distance euclidienne entre l'instance et la moyenne du cluster. Ensuite, iloptimise de manière récurrente les positions des centres pour tous les clusters.Fou chaque cluster, il calcule la nouvelle moyenne en tant que centre en utilisant les instancesattribué à ce cluster dans l'itération précédente. Toutes les instances de chaque clustersont alors réaffectés aux moyens mis à jour. Les itérations se poursuivent jusqu'à ce que lel'algorithme a convergé, c'est-à-dire cenles ters de tous les clusters n'en ont plus besoinrepositionnement. Différentes valeurs de K peuvent conduire à différentest résultats, et c'est ainsiimportant de trouver une valeur optimale de K."
   ]
  },
  {
   "cell_type": "markdown",
   "metadata": {},
   "source": [
    "## $\\color{#F78B0B}{\\text{Exemple:}}$"
   ]
  },
  {
   "cell_type": "markdown",
   "metadata": {},
   "source": [
    "<img src=\"cluster.jpg\" height=\"200\" width=\"800\">"
   ]
  },
  {
   "cell_type": "markdown",
   "metadata": {},
   "source": [
    "Comprenons cela avec un exemple, supposons que nous soyons un gestionnaire de marché et que nous ayons un nouveau produit tentant à vendre. Nous sommes sûrs que le produit rapporterait d'énormes bénéfices, tant qu'il est vendu aux bonnes personnes. Alors, comment pouvons-nous savoir qui est le mieux adapté pour le produit parmi la vaste clientèle de notre entreprise ?"
   ]
  },
  {
   "cell_type": "markdown",
   "metadata": {},
   "source": [
    "<img src=\"exple.png\" height=\"150\" width=\"500\">"
   ]
  },
  {
   "cell_type": "markdown",
   "metadata": {},
   "source": [
    "Le clustering, entrant dans la catégorie de l'apprentissage automatique non supervisé , est l'un des problèmes que résolvent les algorithmes d'apprentissage automatique."
   ]
  },
  {
   "cell_type": "markdown",
   "metadata": {},
   "source": [
    "Le clustering utilise uniquement des données d'entrée pour déterminer des modèles, des anomalies ou des similitudes dans ses données d'entrée.\n",
    "\n",
    "Un bon algorithme de clustering vise à obtenir des clusters dont :\n",
    "\n",
    "- Les similitudes intra-cluster sont élevées, cela implique que les données présentes à l'intérieur du cluster sont similaires les unes aux autres.\n",
    "- La similitude inter-clusters est faible, et cela signifie que chaque cluster contient des données qui ne sont pas similaires aux autres données."
   ]
  },
  {
   "cell_type": "markdown",
   "metadata": {},
   "source": [
    " # $\\color{#BF536F}{\\text{Travail demandé}}$"
   ]
  },
  {
   "cell_type": "markdown",
   "metadata": {},
   "source": [
    " # $\\color{#3396FF}{\\text{1. Targeting treatment for heart disease patients}}$"
   ]
  },
  {
   "cell_type": "markdown",
   "metadata": {},
   "source": [
    "Nous allons explorer s'il serait approprié d'utiliser des algorithmes de clustering pour regrouper les patients médicaux.\n",
    "\n",
    "Nous allons examiner des patients anonymisés qui ont reçu un diagnostic de maladie cardiaque. Les patients présentant des caractéristiques similaires pourraient répondre aux mêmes traitements, et les médecins gagneraient à se renseigner sur les résultats de patients similaires à ceux qu'ils traitent. Les données que nous analysons proviennent du V.A. Medical Center à Long Beach, Californie. \n",
    "\n",
    "Avant de commencer un projet, il est important de se faire une idée de ce à quoi ressemblent les données du patient. De plus, les algorithmes de clustering utilisés ci-dessous nécessitent que les données soient numériques, il est donc nécessaire de s'assurer que les données du patient n'ont pas besoin de transformations."
   ]
  },
  {
   "cell_type": "markdown",
   "metadata": {},
   "source": [
    "#### Chargement des données"
   ]
  },
  {
   "cell_type": "code",
   "execution_count": 1,
   "metadata": {},
   "outputs": [],
   "source": [
    "heart_disease <- read.csv(\"datasets/heart_disease_patients.csv\")"
   ]
  },
  {
   "cell_type": "markdown",
   "metadata": {},
   "source": [
    "#### Afficher les 10 premiers lignes de Dataset"
   ]
  },
  {
   "cell_type": "code",
   "execution_count": 2,
   "metadata": {},
   "outputs": [
    {
     "data": {
      "text/html": [
       "<table>\n",
       "<thead><tr><th scope=col>id</th><th scope=col>age</th><th scope=col>sex</th><th scope=col>cp</th><th scope=col>trestbps</th><th scope=col>chol</th><th scope=col>fbs</th><th scope=col>restecg</th><th scope=col>thalach</th><th scope=col>exang</th><th scope=col>oldpeak</th><th scope=col>slope</th></tr></thead>\n",
       "<tbody>\n",
       "\t<tr><td> 1 </td><td>63 </td><td>1  </td><td>1  </td><td>145</td><td>233</td><td>1  </td><td>2  </td><td>150</td><td>0  </td><td>2.3</td><td>3  </td></tr>\n",
       "\t<tr><td> 2 </td><td>67 </td><td>1  </td><td>4  </td><td>160</td><td>286</td><td>0  </td><td>2  </td><td>108</td><td>1  </td><td>1.5</td><td>2  </td></tr>\n",
       "\t<tr><td> 3 </td><td>67 </td><td>1  </td><td>4  </td><td>120</td><td>229</td><td>0  </td><td>2  </td><td>129</td><td>1  </td><td>2.6</td><td>2  </td></tr>\n",
       "\t<tr><td> 4 </td><td>37 </td><td>1  </td><td>3  </td><td>130</td><td>250</td><td>0  </td><td>0  </td><td>187</td><td>0  </td><td>3.5</td><td>3  </td></tr>\n",
       "\t<tr><td> 5 </td><td>41 </td><td>0  </td><td>2  </td><td>130</td><td>204</td><td>0  </td><td>2  </td><td>172</td><td>0  </td><td>1.4</td><td>1  </td></tr>\n",
       "\t<tr><td> 6 </td><td>56 </td><td>1  </td><td>2  </td><td>120</td><td>236</td><td>0  </td><td>0  </td><td>178</td><td>0  </td><td>0.8</td><td>1  </td></tr>\n",
       "\t<tr><td> 7 </td><td>62 </td><td>0  </td><td>4  </td><td>140</td><td>268</td><td>0  </td><td>2  </td><td>160</td><td>0  </td><td>3.6</td><td>3  </td></tr>\n",
       "\t<tr><td> 8 </td><td>57 </td><td>0  </td><td>4  </td><td>120</td><td>354</td><td>0  </td><td>0  </td><td>163</td><td>1  </td><td>0.6</td><td>1  </td></tr>\n",
       "\t<tr><td> 9 </td><td>63 </td><td>1  </td><td>4  </td><td>130</td><td>254</td><td>0  </td><td>2  </td><td>147</td><td>0  </td><td>1.4</td><td>2  </td></tr>\n",
       "\t<tr><td>10 </td><td>53 </td><td>1  </td><td>4  </td><td>140</td><td>203</td><td>1  </td><td>2  </td><td>155</td><td>1  </td><td>3.1</td><td>3  </td></tr>\n",
       "</tbody>\n",
       "</table>\n"
      ],
      "text/latex": [
       "\\begin{tabular}{r|llllllllllll}\n",
       " id & age & sex & cp & trestbps & chol & fbs & restecg & thalach & exang & oldpeak & slope\\\\\n",
       "\\hline\n",
       "\t  1  & 63  & 1   & 1   & 145 & 233 & 1   & 2   & 150 & 0   & 2.3 & 3  \\\\\n",
       "\t  2  & 67  & 1   & 4   & 160 & 286 & 0   & 2   & 108 & 1   & 1.5 & 2  \\\\\n",
       "\t  3  & 67  & 1   & 4   & 120 & 229 & 0   & 2   & 129 & 1   & 2.6 & 2  \\\\\n",
       "\t  4  & 37  & 1   & 3   & 130 & 250 & 0   & 0   & 187 & 0   & 3.5 & 3  \\\\\n",
       "\t  5  & 41  & 0   & 2   & 130 & 204 & 0   & 2   & 172 & 0   & 1.4 & 1  \\\\\n",
       "\t  6  & 56  & 1   & 2   & 120 & 236 & 0   & 0   & 178 & 0   & 0.8 & 1  \\\\\n",
       "\t  7  & 62  & 0   & 4   & 140 & 268 & 0   & 2   & 160 & 0   & 3.6 & 3  \\\\\n",
       "\t  8  & 57  & 0   & 4   & 120 & 354 & 0   & 0   & 163 & 1   & 0.6 & 1  \\\\\n",
       "\t  9  & 63  & 1   & 4   & 130 & 254 & 0   & 2   & 147 & 0   & 1.4 & 2  \\\\\n",
       "\t 10  & 53  & 1   & 4   & 140 & 203 & 1   & 2   & 155 & 1   & 3.1 & 3  \\\\\n",
       "\\end{tabular}\n"
      ],
      "text/markdown": [
       "\n",
       "| id | age | sex | cp | trestbps | chol | fbs | restecg | thalach | exang | oldpeak | slope |\n",
       "|---|---|---|---|---|---|---|---|---|---|---|---|\n",
       "|  1  | 63  | 1   | 1   | 145 | 233 | 1   | 2   | 150 | 0   | 2.3 | 3   |\n",
       "|  2  | 67  | 1   | 4   | 160 | 286 | 0   | 2   | 108 | 1   | 1.5 | 2   |\n",
       "|  3  | 67  | 1   | 4   | 120 | 229 | 0   | 2   | 129 | 1   | 2.6 | 2   |\n",
       "|  4  | 37  | 1   | 3   | 130 | 250 | 0   | 0   | 187 | 0   | 3.5 | 3   |\n",
       "|  5  | 41  | 0   | 2   | 130 | 204 | 0   | 2   | 172 | 0   | 1.4 | 1   |\n",
       "|  6  | 56  | 1   | 2   | 120 | 236 | 0   | 0   | 178 | 0   | 0.8 | 1   |\n",
       "|  7  | 62  | 0   | 4   | 140 | 268 | 0   | 2   | 160 | 0   | 3.6 | 3   |\n",
       "|  8  | 57  | 0   | 4   | 120 | 354 | 0   | 0   | 163 | 1   | 0.6 | 1   |\n",
       "|  9  | 63  | 1   | 4   | 130 | 254 | 0   | 2   | 147 | 0   | 1.4 | 2   |\n",
       "| 10  | 53  | 1   | 4   | 140 | 203 | 1   | 2   | 155 | 1   | 3.1 | 3   |\n",
       "\n"
      ],
      "text/plain": [
       "   id age sex cp trestbps chol fbs restecg thalach exang oldpeak slope\n",
       "1   1 63  1   1  145      233  1   2       150     0     2.3     3    \n",
       "2   2 67  1   4  160      286  0   2       108     1     1.5     2    \n",
       "3   3 67  1   4  120      229  0   2       129     1     2.6     2    \n",
       "4   4 37  1   3  130      250  0   0       187     0     3.5     3    \n",
       "5   5 41  0   2  130      204  0   2       172     0     1.4     1    \n",
       "6   6 56  1   2  120      236  0   0       178     0     0.8     1    \n",
       "7   7 62  0   4  140      268  0   2       160     0     3.6     3    \n",
       "8   8 57  0   4  120      354  0   0       163     1     0.6     1    \n",
       "9   9 63  1   4  130      254  0   2       147     0     1.4     2    \n",
       "10 10 53  1   4  140      203  1   2       155     1     3.1     3    "
      ]
     },
     "metadata": {},
     "output_type": "display_data"
    }
   ],
   "source": [
    "head(heart_disease, 10)"
   ]
  },
  {
   "cell_type": "markdown",
   "metadata": {},
   "source": [
    "#### Vérifier que les valeurs à traiter sont tous numeriques"
   ]
  },
  {
   "cell_type": "code",
   "execution_count": 3,
   "metadata": {},
   "outputs": [
    {
     "data": {
      "text/html": [
       "<dl>\n",
       "\t<dt>$id</dt>\n",
       "\t\t<dd>TRUE</dd>\n",
       "\t<dt>$age</dt>\n",
       "\t\t<dd>TRUE</dd>\n",
       "\t<dt>$sex</dt>\n",
       "\t\t<dd>TRUE</dd>\n",
       "\t<dt>$cp</dt>\n",
       "\t\t<dd>TRUE</dd>\n",
       "\t<dt>$trestbps</dt>\n",
       "\t\t<dd>TRUE</dd>\n",
       "\t<dt>$chol</dt>\n",
       "\t\t<dd>TRUE</dd>\n",
       "\t<dt>$fbs</dt>\n",
       "\t\t<dd>TRUE</dd>\n",
       "\t<dt>$restecg</dt>\n",
       "\t\t<dd>TRUE</dd>\n",
       "\t<dt>$thalach</dt>\n",
       "\t\t<dd>TRUE</dd>\n",
       "\t<dt>$exang</dt>\n",
       "\t\t<dd>TRUE</dd>\n",
       "\t<dt>$oldpeak</dt>\n",
       "\t\t<dd>TRUE</dd>\n",
       "\t<dt>$slope</dt>\n",
       "\t\t<dd>TRUE</dd>\n",
       "</dl>\n"
      ],
      "text/latex": [
       "\\begin{description}\n",
       "\\item[\\$id] TRUE\n",
       "\\item[\\$age] TRUE\n",
       "\\item[\\$sex] TRUE\n",
       "\\item[\\$cp] TRUE\n",
       "\\item[\\$trestbps] TRUE\n",
       "\\item[\\$chol] TRUE\n",
       "\\item[\\$fbs] TRUE\n",
       "\\item[\\$restecg] TRUE\n",
       "\\item[\\$thalach] TRUE\n",
       "\\item[\\$exang] TRUE\n",
       "\\item[\\$oldpeak] TRUE\n",
       "\\item[\\$slope] TRUE\n",
       "\\end{description}\n"
      ],
      "text/markdown": [
       "$id\n",
       ":   TRUE\n",
       "$age\n",
       ":   TRUE\n",
       "$sex\n",
       ":   TRUE\n",
       "$cp\n",
       ":   TRUE\n",
       "$trestbps\n",
       ":   TRUE\n",
       "$chol\n",
       ":   TRUE\n",
       "$fbs\n",
       ":   TRUE\n",
       "$restecg\n",
       ":   TRUE\n",
       "$thalach\n",
       ":   TRUE\n",
       "$exang\n",
       ":   TRUE\n",
       "$oldpeak\n",
       ":   TRUE\n",
       "$slope\n",
       ":   TRUE\n",
       "\n",
       "\n"
      ],
      "text/plain": [
       "$id\n",
       "[1] TRUE\n",
       "\n",
       "$age\n",
       "[1] TRUE\n",
       "\n",
       "$sex\n",
       "[1] TRUE\n",
       "\n",
       "$cp\n",
       "[1] TRUE\n",
       "\n",
       "$trestbps\n",
       "[1] TRUE\n",
       "\n",
       "$chol\n",
       "[1] TRUE\n",
       "\n",
       "$fbs\n",
       "[1] TRUE\n",
       "\n",
       "$restecg\n",
       "[1] TRUE\n",
       "\n",
       "$thalach\n",
       "[1] TRUE\n",
       "\n",
       "$exang\n",
       "[1] TRUE\n",
       "\n",
       "$oldpeak\n",
       "[1] TRUE\n",
       "\n",
       "$slope\n",
       "[1] TRUE\n"
      ]
     },
     "metadata": {},
     "output_type": "display_data"
    }
   ],
   "source": [
    "lapply(heart_disease, is.numeric)"
   ]
  },
  {
   "cell_type": "markdown",
   "metadata": {},
   "source": [
    "# $\\color{#3396FF}{\\text{2. Quantifying patient differences}}$\n"
   ]
  },
  {
   "cell_type": "markdown",
   "metadata": {},
   "source": [
    "La quantification présente plusieurs avantages que l'on peut classer en fonction de leur nature. Elle présente des intérêts méthodologiques, augmente la crédibilité et constitue actuellement une opportunité.\n",
    "\n",
    "Le principal avantage de la quantification est la commensuration. En effet, une mesure commune crée des relations spécifiques entre les objets, laquelle permet de les représenter plus facilement et surtout de les comparer relativement à l'aspect mesuré. Par exemple, 20 kilos et 40 kilos sont plus précis et plus facile à comprendre et comparer qu'une expression verbale qui pourrait y être associée telle que lourd et très lourd.\n",
    "\n",
    "Un second avantage de la quantification réside dans la facilité d'analyse des nombres comparés aux données qualitatives, ce qui ouvre une large variété d'analyses réalisables rapidement.\n",
    "\n",
    "Un troisième avantage est la transparence des analyses qui sont explicites et peuvent donc être vérifiées et répliquées.Cette transparence confère une fiabilité aux analyses valorisée dans de nombreuses perspectives de recherche"
   ]
  },
  {
   "cell_type": "code",
   "execution_count": 4,
   "metadata": {},
   "outputs": [
    {
     "data": {
      "text/plain": [
       "       id             age             sex               cp       \n",
       " Min.   :  1.0   Min.   :29.00   Min.   :0.0000   Min.   :1.000  \n",
       " 1st Qu.: 76.5   1st Qu.:48.00   1st Qu.:0.0000   1st Qu.:3.000  \n",
       " Median :152.0   Median :56.00   Median :1.0000   Median :3.000  \n",
       " Mean   :152.0   Mean   :54.44   Mean   :0.6799   Mean   :3.158  \n",
       " 3rd Qu.:227.5   3rd Qu.:61.00   3rd Qu.:1.0000   3rd Qu.:4.000  \n",
       " Max.   :303.0   Max.   :77.00   Max.   :1.0000   Max.   :4.000  \n",
       "    trestbps          chol            fbs            restecg      \n",
       " Min.   : 94.0   Min.   :126.0   Min.   :0.0000   Min.   :0.0000  \n",
       " 1st Qu.:120.0   1st Qu.:211.0   1st Qu.:0.0000   1st Qu.:0.0000  \n",
       " Median :130.0   Median :241.0   Median :0.0000   Median :1.0000  \n",
       " Mean   :131.7   Mean   :246.7   Mean   :0.1485   Mean   :0.9901  \n",
       " 3rd Qu.:140.0   3rd Qu.:275.0   3rd Qu.:0.0000   3rd Qu.:2.0000  \n",
       " Max.   :200.0   Max.   :564.0   Max.   :1.0000   Max.   :2.0000  \n",
       "    thalach          exang           oldpeak         slope      \n",
       " Min.   : 71.0   Min.   :0.0000   Min.   :0.00   Min.   :1.000  \n",
       " 1st Qu.:133.5   1st Qu.:0.0000   1st Qu.:0.00   1st Qu.:1.000  \n",
       " Median :153.0   Median :0.0000   Median :0.80   Median :2.000  \n",
       " Mean   :149.6   Mean   :0.3267   Mean   :1.04   Mean   :1.601  \n",
       " 3rd Qu.:166.0   3rd Qu.:1.0000   3rd Qu.:1.60   3rd Qu.:2.000  \n",
       " Max.   :202.0   Max.   :1.0000   Max.   :6.20   Max.   :3.000  "
      ]
     },
     "metadata": {},
     "output_type": "display_data"
    }
   ],
   "source": [
    "# evidence that the data should be scaled?\n",
    "# We use summary to show : Min,1st Quantile,Median,Mean,3rd Quantile,Max, value of our input data\n",
    "summary(heart_disease) \n"
   ]
  },
  {
   "cell_type": "code",
   "execution_count": 5,
   "metadata": {},
   "outputs": [],
   "source": [
    "# remove id because we need to qunatify qualitative attributs or id is a qunatitative value(nominal) and it will not be including for the clustering data \n",
    "heart_disease <- heart_disease[ , !(names(heart_disease) %in% c(\"id\"))]"
   ]
  },
  {
   "cell_type": "markdown",
   "metadata": {},
   "source": [
    "Scaling (évolutivité) est un processus pour comparer les données qui ne sont pas mesurées dans la même approche. c'est la normalisation d'un ensemble de données à l'aide de la valeur moyenne et de l'écart type. Scaling est souvent utilisée avec des vecteurs ou des colonnes d'un bloc de données .Cette etape est importante dans les algorithmes tels que les machines à vecteurs de support (SVM) et les k-plus proches voisins (KNN) où la distance entre les points de données est importante."
   ]
  },
  {
   "cell_type": "markdown",
   "metadata": {},
   "source": [
    "L'évolutivité du clustering implique qu'au fur et à mesure que nous augmentons la quantité d'objets de données, le temps nécessaire pour effectuer le clustering doit s'adapter approximativement à l'ordre de complexité de l'algorithme. Par exemple, si nous effectuons le regroupement K-means, nous savons que c'est O(n), où n est le nombre d'objets dans les données. Si nous multiplions par 10 le nombre d'objets de données, le temps nécessaire pour les regrouper devrait également être multiplié par 10 environ. Cela signifie qu'il devrait y avoir une relation linéaire. Si ce n'est pas le cas, il y a une erreur dans notre processus de mise en œuvre."
   ]
  },
  {
   "cell_type": "markdown",
   "metadata": {},
   "source": [
    "### $\\color{#F78B0B}{\\text{Exemple graphique où l'évolutivité peut conduire à un résultat erroné:}}$"
   ]
  },
  {
   "cell_type": "markdown",
   "metadata": {},
   "source": [
    "<img src=\"explescale.png\" height=\"150\" width=\"500\">"
   ]
  },
  {
   "cell_type": "markdown",
   "metadata": {},
   "source": [
    "Les données doivent être évolutives si elles ne le sont pas, nous ne pouvons alors pas obtenir le résultat approprié."
   ]
  },
  {
   "cell_type": "code",
   "execution_count": 6,
   "metadata": {},
   "outputs": [],
   "source": [
    "# scaling data and saving as a data frame : la fonction scale() soustrait les valeurs de chaque colonne par la valeur \"centre\" correspondante de l'argument uniquement si la valeur fournie est numérique.\n",
    "scaled <- scale(heart_disease)"
   ]
  },
  {
   "cell_type": "code",
   "execution_count": 7,
   "metadata": {},
   "outputs": [
    {
     "data": {
      "text/plain": [
       "      age               sex                cp             trestbps       \n",
       " Min.   :-2.8145   Min.   :-1.4549   Min.   :-2.2481   Min.   :-2.14149  \n",
       " 1st Qu.:-0.7124   1st Qu.:-1.4549   1st Qu.:-0.1650   1st Qu.:-0.66420  \n",
       " Median : 0.1727   Median : 0.6851   Median :-0.1650   Median :-0.09601  \n",
       " Mean   : 0.0000   Mean   : 0.0000   Mean   : 0.0000   Mean   : 0.00000  \n",
       " 3rd Qu.: 0.7259   3rd Qu.: 0.6851   3rd Qu.: 0.8765   3rd Qu.: 0.47218  \n",
       " Max.   : 2.4961   Max.   : 0.6851   Max.   : 0.8765   Max.   : 3.88132  \n",
       "      chol              fbs             restecg             thalach       \n",
       " Min.   :-2.3310   Min.   :-0.4169   Min.   :-0.995103   Min.   :-3.4364  \n",
       " 1st Qu.:-0.6894   1st Qu.:-0.4169   1st Qu.:-0.995103   1st Qu.:-0.7041  \n",
       " Median :-0.1100   Median :-0.4169   Median : 0.009951   Median : 0.1483  \n",
       " Mean   : 0.0000   Mean   : 0.0000   Mean   : 0.000000   Mean   : 0.0000  \n",
       " 3rd Qu.: 0.5467   3rd Qu.:-0.4169   3rd Qu.: 1.015005   3rd Qu.: 0.7166  \n",
       " Max.   : 6.1283   Max.   : 2.3905   Max.   : 1.015005   Max.   : 2.2904  \n",
       "     exang            oldpeak            slope        \n",
       " Min.   :-0.6955   Min.   :-0.8954   Min.   :-0.9747  \n",
       " 1st Qu.:-0.6955   1st Qu.:-0.8954   1st Qu.:-0.9747  \n",
       " Median :-0.6955   Median :-0.2064   Median : 0.6480  \n",
       " Mean   : 0.0000   Mean   : 0.0000   Mean   : 0.0000  \n",
       " 3rd Qu.: 1.4331   3rd Qu.: 0.4827   3rd Qu.: 0.6480  \n",
       " Max.   : 1.4331   Max.   : 4.4445   Max.   : 2.2708  "
      ]
     },
     "metadata": {},
     "output_type": "display_data"
    }
   ],
   "source": [
    "# what does data look like now?\n",
    "summary(scaled)"
   ]
  },
  {
   "cell_type": "markdown",
   "metadata": {},
   "source": [
    "# $\\color{#3396FF}{\\text{3. Let's start grouping patients}}$"
   ]
  },
  {
   "cell_type": "markdown",
   "metadata": {},
   "source": [
    "Une fois que nous avons préparé nos données, nous pouvons maintenant démarrer le processus de clustering. Pour l'algorithme des k-means, il est nécessaire de sélectionner à l'avance le nombre de clusters.\n",
    "\n",
    "Il est également important de s'assurer que nos résultats sont reproductibles lors de la réalisation d'une analyse statistique. Cela signifie que lorsque quelqu'un exécute notre code sur les mêmes données, il obtiendra les mêmes résultats que ceux que vous avez signalés. \n",
    "\n",
    "La reproductibilité est particulièrement importante car les médecins utiliseront potentiellement nos résultats pour traiter les patients. Il est vital qu'un autre analyste puisse voir d'où viennent les groupes et être en mesure de vérifier les résultats."
   ]
  },
  {
   "cell_type": "code",
   "execution_count": 8,
   "metadata": {},
   "outputs": [],
   "source": [
    "#Comme l'algorithme de clustering k-means commence par k centroïdes sélectionnés au hasard,\n",
    "#il est toujours recommandé d'utiliser la fonction set.seed() afin de définir une graine pour\n",
    "#le générateur de nombres aléatoires de R. Le but est de rendre reproductibles les résultats, \n",
    "#afin que le lecteur de cet article obtienne exactement les mêmes résultats que ceux nous avons travaillé sur.\n",
    "\n",
    "seed_val <- 10  \n",
    "set.seed(seed_val)\n",
    "\n",
    "# selectionner le nombre des clusters\n",
    "k <- 5\n",
    "\n",
    "# Exécuter le K-means algorithme: Ce dernière prend trois arguments principaux : la matrice de données, le nombre de clusters, et le nombre d’itérations de l'algorithme\n",
    "premier_clust <- kmeans(scaled, centers = k, nstart = 1)\n"
   ]
  },
  {
   "cell_type": "code",
   "execution_count": 9,
   "metadata": {},
   "outputs": [
    {
     "name": "stdout",
     "output_type": "stream",
     "text": [
      "K-means clustering with 5 clusters of sizes 66, 43, 88, 61, 45\n",
      "\n",
      "Cluster means:\n",
      "         age         sex         cp    trestbps        chol        fbs\n",
      "1  0.3017839  0.58779832  0.7818509 -0.00131265 -0.01338568 -0.3744080\n",
      "2  0.3142197  0.08787149 -0.0923300  0.48142859  0.03063142  2.3904835\n",
      "3 -0.8091843  0.27166812 -0.1531593 -0.41368082 -0.32679315 -0.3850422\n",
      "4  0.5281944 -1.34964528  0.3130846  0.06885726  0.61541531 -0.4169448\n",
      "5  0.1235373  0.35218675 -1.1833802  0.25752944 -0.20480517 -0.4169448\n",
      "      restecg     thalach      exang     oldpeak       slope\n",
      "1  0.20791624 -1.10884515  1.0783453  0.87935928  0.67262879\n",
      "2  0.17356449  0.02123552  0.0470515  0.02397597  0.11969395\n",
      "3 -0.49257603  0.68830644 -0.4294062 -0.62329725 -0.73501067\n",
      "4  0.07585622 -0.04231328 -0.2069511 -0.27413602 -0.09684182\n",
      "5  0.38963814  0.31735103 -0.5062720  0.27786168  0.46773222\n",
      "\n",
      "Clustering vector:\n",
      "  [1] 2 1 1 5 3 3 4 4 1 2 3 4 2 3 2 3 5 3 4 3 5 2 5 5 1 4 4 5 3 1 5 2 4 3 3 3 1\n",
      " [38] 1 1 2 4 3 4 2 4 5 3 1 2 2 3 3 3 3 1 1 3 3 5 5 4 5 1 2 1 1 5 5 1 5 4 2 1 3\n",
      " [75] 3 4 1 4 5 1 1 4 3 2 3 3 3 4 4 4 4 1 5 3 4 3 1 4 3 3 3 3 4 2 5 3 3 5 1 3 4\n",
      "[112] 2 5 2 4 3 2 3 2 1 2 4 1 1 2 5 2 1 3 4 5 3 3 3 3 5 1 5 1 2 3 5 2 1 1 3 2 3\n",
      "[149] 3 4 2 4 4 1 1 1 3 3 5 3 3 4 4 4 2 3 3 2 3 3 1 1 4 4 1 1 2 1 3 2 3 4 5 5 4\n",
      "[186] 3 2 1 5 5 3 1 2 2 4 1 2 4 3 5 4 4 2 4 3 1 1 1 3 4 3 5 5 2 3 5 3 4 4 3 3 4\n",
      "[223] 3 1 4 3 3 4 1 1 4 1 3 4 4 1 1 3 4 3 3 3 4 5 2 1 3 1 3 2 1 1 1 4 3 3 4 4 5\n",
      "[260] 3 3 2 5 3 1 1 2 2 3 3 1 1 1 4 5 5 4 3 5 4 1 3 1 3 3 1 2 5 5 5 5 4 1 1 4 3\n",
      "[297] 2 4 5 2 1 5 3\n",
      "\n",
      "Within cluster sum of squares by cluster:\n",
      "[1] 455.0590 414.7670 507.4773 460.9349 341.7545\n",
      " (between_SS / total_SS =  34.4 %)\n",
      "\n",
      "Available components:\n",
      "\n",
      "[1] \"cluster\"      \"centers\"      \"totss\"        \"withinss\"     \"tot.withinss\"\n",
      "[6] \"betweenss\"    \"size\"         \"iter\"         \"ifault\"      \n"
     ]
    }
   ],
   "source": [
    "#Afficher le resultat d'algorithme K-means\n",
    "print(premier_clust)"
   ]
  },
  {
   "cell_type": "code",
   "execution_count": 10,
   "metadata": {},
   "outputs": [
    {
     "data": {
      "text/html": [
       "<ol class=list-inline>\n",
       "\t<li>66</li>\n",
       "\t<li>43</li>\n",
       "\t<li>88</li>\n",
       "\t<li>61</li>\n",
       "\t<li>45</li>\n",
       "</ol>\n"
      ],
      "text/latex": [
       "\\begin{enumerate*}\n",
       "\\item 66\n",
       "\\item 43\n",
       "\\item 88\n",
       "\\item 61\n",
       "\\item 45\n",
       "\\end{enumerate*}\n"
      ],
      "text/markdown": [
       "1. 66\n",
       "2. 43\n",
       "3. 88\n",
       "4. 61\n",
       "5. 45\n",
       "\n",
       "\n"
      ],
      "text/plain": [
       "[1] 66 43 88 61 45"
      ]
     },
     "metadata": {},
     "output_type": "display_data"
    }
   ],
   "source": [
    "# Clustering K-means montrant combien de patient dans chaque groupe\n",
    "premier_clust$size"
   ]
  },
  {
   "cell_type": "code",
   "execution_count": 11,
   "metadata": {},
   "outputs": [
    {
     "data": {
      "text/html": [
       "<table>\n",
       "<thead><tr><th scope=col>age</th><th scope=col>sex</th><th scope=col>cp</th><th scope=col>trestbps</th><th scope=col>chol</th><th scope=col>fbs</th><th scope=col>restecg</th><th scope=col>thalach</th><th scope=col>exang</th><th scope=col>oldpeak</th><th scope=col>slope</th></tr></thead>\n",
       "<tbody>\n",
       "\t<tr><td> 0.3017839 </td><td> 0.58779832</td><td> 0.7818509 </td><td>-0.00131265</td><td>-0.01338568</td><td>-0.3744080 </td><td> 0.20791624</td><td>-1.10884515</td><td> 1.0783453 </td><td> 0.87935928</td><td> 0.67262879</td></tr>\n",
       "\t<tr><td> 0.3142197 </td><td> 0.08787149</td><td>-0.0923300 </td><td> 0.48142859</td><td> 0.03063142</td><td> 2.3904835 </td><td> 0.17356449</td><td> 0.02123552</td><td> 0.0470515 </td><td> 0.02397597</td><td> 0.11969395</td></tr>\n",
       "\t<tr><td>-0.8091843 </td><td> 0.27166812</td><td>-0.1531593 </td><td>-0.41368082</td><td>-0.32679315</td><td>-0.3850422 </td><td>-0.49257603</td><td> 0.68830644</td><td>-0.4294062 </td><td>-0.62329725</td><td>-0.73501067</td></tr>\n",
       "\t<tr><td> 0.5281944 </td><td>-1.34964528</td><td> 0.3130846 </td><td> 0.06885726</td><td> 0.61541531</td><td>-0.4169448 </td><td> 0.07585622</td><td>-0.04231328</td><td>-0.2069511 </td><td>-0.27413602</td><td>-0.09684182</td></tr>\n",
       "\t<tr><td> 0.1235373 </td><td> 0.35218675</td><td>-1.1833802 </td><td> 0.25752944</td><td>-0.20480517</td><td>-0.4169448 </td><td> 0.38963814</td><td> 0.31735103</td><td>-0.5062720 </td><td> 0.27786168</td><td> 0.46773222</td></tr>\n",
       "</tbody>\n",
       "</table>\n"
      ],
      "text/latex": [
       "\\begin{tabular}{r|lllllllllll}\n",
       " age & sex & cp & trestbps & chol & fbs & restecg & thalach & exang & oldpeak & slope\\\\\n",
       "\\hline\n",
       "\t  0.3017839  &  0.58779832 &  0.7818509  & -0.00131265 & -0.01338568 & -0.3744080  &  0.20791624 & -1.10884515 &  1.0783453  &  0.87935928 &  0.67262879\\\\\n",
       "\t  0.3142197  &  0.08787149 & -0.0923300  &  0.48142859 &  0.03063142 &  2.3904835  &  0.17356449 &  0.02123552 &  0.0470515  &  0.02397597 &  0.11969395\\\\\n",
       "\t -0.8091843  &  0.27166812 & -0.1531593  & -0.41368082 & -0.32679315 & -0.3850422  & -0.49257603 &  0.68830644 & -0.4294062  & -0.62329725 & -0.73501067\\\\\n",
       "\t  0.5281944  & -1.34964528 &  0.3130846  &  0.06885726 &  0.61541531 & -0.4169448  &  0.07585622 & -0.04231328 & -0.2069511  & -0.27413602 & -0.09684182\\\\\n",
       "\t  0.1235373  &  0.35218675 & -1.1833802  &  0.25752944 & -0.20480517 & -0.4169448  &  0.38963814 &  0.31735103 & -0.5062720  &  0.27786168 &  0.46773222\\\\\n",
       "\\end{tabular}\n"
      ],
      "text/markdown": [
       "\n",
       "| age | sex | cp | trestbps | chol | fbs | restecg | thalach | exang | oldpeak | slope |\n",
       "|---|---|---|---|---|---|---|---|---|---|---|\n",
       "|  0.3017839  |  0.58779832 |  0.7818509  | -0.00131265 | -0.01338568 | -0.3744080  |  0.20791624 | -1.10884515 |  1.0783453  |  0.87935928 |  0.67262879 |\n",
       "|  0.3142197  |  0.08787149 | -0.0923300  |  0.48142859 |  0.03063142 |  2.3904835  |  0.17356449 |  0.02123552 |  0.0470515  |  0.02397597 |  0.11969395 |\n",
       "| -0.8091843  |  0.27166812 | -0.1531593  | -0.41368082 | -0.32679315 | -0.3850422  | -0.49257603 |  0.68830644 | -0.4294062  | -0.62329725 | -0.73501067 |\n",
       "|  0.5281944  | -1.34964528 |  0.3130846  |  0.06885726 |  0.61541531 | -0.4169448  |  0.07585622 | -0.04231328 | -0.2069511  | -0.27413602 | -0.09684182 |\n",
       "|  0.1235373  |  0.35218675 | -1.1833802  |  0.25752944 | -0.20480517 | -0.4169448  |  0.38963814 |  0.31735103 | -0.5062720  |  0.27786168 |  0.46773222 |\n",
       "\n"
      ],
      "text/plain": [
       "  age        sex         cp         trestbps    chol        fbs       \n",
       "1  0.3017839  0.58779832  0.7818509 -0.00131265 -0.01338568 -0.3744080\n",
       "2  0.3142197  0.08787149 -0.0923300  0.48142859  0.03063142  2.3904835\n",
       "3 -0.8091843  0.27166812 -0.1531593 -0.41368082 -0.32679315 -0.3850422\n",
       "4  0.5281944 -1.34964528  0.3130846  0.06885726  0.61541531 -0.4169448\n",
       "5  0.1235373  0.35218675 -1.1833802  0.25752944 -0.20480517 -0.4169448\n",
       "  restecg     thalach     exang      oldpeak     slope      \n",
       "1  0.20791624 -1.10884515  1.0783453  0.87935928  0.67262879\n",
       "2  0.17356449  0.02123552  0.0470515  0.02397597  0.11969395\n",
       "3 -0.49257603  0.68830644 -0.4294062 -0.62329725 -0.73501067\n",
       "4  0.07585622 -0.04231328 -0.2069511 -0.27413602 -0.09684182\n",
       "5  0.38963814  0.31735103 -0.5062720  0.27786168  0.46773222"
      ]
     },
     "metadata": {},
     "output_type": "display_data"
    }
   ],
   "source": [
    "# Cluster means \n",
    "premier_clust$centers"
   ]
  },
  {
   "cell_type": "markdown",
   "metadata": {},
   "source": [
    "# $\\color{#3396FF}{\\text{4. Another round of k-means }}$"
   ]
  },
  {
   "cell_type": "markdown",
   "metadata": {},
   "source": [
    "Étant donné que l'algorithme k-means sélectionne initialement les centres de cluster en sélectionnant des points de manière aléatoire, différentes itérations de l'algorithme peuvent entraîner la création de différents clusters. <br>\n",
    "\n",
    "En ce qui concerne les données sur les maladies cardiaques, cela signifierait que les mêmes patients seraient regroupés même lorsque l'algorithme est initialisé à différents points aléatoires.<br>\n",
    "\n",
    "Nous allons explorer comment les patients sont regroupés avec une autre itération de l'algorithme k-means. Nous pourrons alors comparer les groupes de patients résultants."
   ]
  },
  {
   "cell_type": "code",
   "execution_count": 12,
   "metadata": {},
   "outputs": [
    {
     "data": {
      "text/html": [
       "<ol class=list-inline>\n",
       "\t<li>59</li>\n",
       "\t<li>98</li>\n",
       "\t<li>29</li>\n",
       "\t<li>59</li>\n",
       "\t<li>58</li>\n",
       "</ol>\n"
      ],
      "text/latex": [
       "\\begin{enumerate*}\n",
       "\\item 59\n",
       "\\item 98\n",
       "\\item 29\n",
       "\\item 59\n",
       "\\item 58\n",
       "\\end{enumerate*}\n"
      ],
      "text/markdown": [
       "1. 59\n",
       "2. 98\n",
       "3. 29\n",
       "4. 59\n",
       "5. 58\n",
       "\n",
       "\n"
      ],
      "text/plain": [
       "[1] 59 98 29 59 58"
      ]
     },
     "metadata": {},
     "output_type": "display_data"
    }
   ],
   "source": [
    "# set the seed\n",
    "seed_val <- 28\n",
    "set.seed(seed_val)\n",
    "\n",
    "# run the k-means algorithms\n",
    "k <- 5\n",
    "deuxieme_clust = kmeans(scaled, centers = k, nstart = 1)\n",
    "\n",
    "# how many patients are in each group\n",
    "deuxieme_clust$size"
   ]
  },
  {
   "cell_type": "code",
   "execution_count": 13,
   "metadata": {},
   "outputs": [
    {
     "data": {
      "text/html": [
       "<table>\n",
       "<thead><tr><th scope=col>age</th><th scope=col>sex</th><th scope=col>cp</th><th scope=col>trestbps</th><th scope=col>chol</th><th scope=col>fbs</th><th scope=col>restecg</th><th scope=col>thalach</th><th scope=col>exang</th><th scope=col>oldpeak</th><th scope=col>slope</th></tr></thead>\n",
       "<tbody>\n",
       "\t<tr><td> 0.5271185 </td><td>-1.0559139 </td><td>-0.2709133 </td><td> 0.1765276 </td><td> 0.6747031 </td><td>-0.03627655</td><td> 0.26547327</td><td> 0.2661269 </td><td>-0.5150910 </td><td>-0.5946656 </td><td>-0.6721873 </td></tr>\n",
       "\t<tr><td>-0.8670423 </td><td> 0.3356882 </td><td>-0.3244128 </td><td>-0.3603932 </td><td>-0.3777826 </td><td>-0.15911975</td><td>-0.44129776</td><td> 0.7282205 </td><td>-0.4348363 </td><td>-0.5675703 </td><td>-0.6766779 </td></tr>\n",
       "\t<tr><td> 0.1040382 </td><td>-0.2742225 </td><td> 0.7328761 </td><td> 0.9659165 </td><td> 0.3848746 </td><td> 1.32559691</td><td> 0.49514957</td><td>-0.3928555 </td><td> 1.2129114 </td><td> 0.3400976 </td><td> 0.7599571 </td></tr>\n",
       "\t<tr><td> 0.6021258 </td><td> 0.1410120 </td><td>-0.2003010 </td><td> 0.2006034 </td><td>-0.1109359 </td><td> 0.05889051</td><td> 0.19733400</td><td>-0.1999284 </td><td>-0.6954800 </td><td> 0.6870221 </td><td> 0.8680793 </td></tr>\n",
       "\t<tr><td> 0.2642694 </td><td> 0.5005900 </td><td> 0.6610464 </td><td>-0.2576512 </td><td>-0.1276025 </td><td>-0.41694480</td><td> 0.02727955</td><td>-1.1013536 </td><td> 1.3597107 </td><td> 0.6950005 </td><td> 0.5641043 </td></tr>\n",
       "</tbody>\n",
       "</table>\n"
      ],
      "text/latex": [
       "\\begin{tabular}{r|lllllllllll}\n",
       " age & sex & cp & trestbps & chol & fbs & restecg & thalach & exang & oldpeak & slope\\\\\n",
       "\\hline\n",
       "\t  0.5271185  & -1.0559139  & -0.2709133  &  0.1765276  &  0.6747031  & -0.03627655 &  0.26547327 &  0.2661269  & -0.5150910  & -0.5946656  & -0.6721873 \\\\\n",
       "\t -0.8670423  &  0.3356882  & -0.3244128  & -0.3603932  & -0.3777826  & -0.15911975 & -0.44129776 &  0.7282205  & -0.4348363  & -0.5675703  & -0.6766779 \\\\\n",
       "\t  0.1040382  & -0.2742225  &  0.7328761  &  0.9659165  &  0.3848746  &  1.32559691 &  0.49514957 & -0.3928555  &  1.2129114  &  0.3400976  &  0.7599571 \\\\\n",
       "\t  0.6021258  &  0.1410120  & -0.2003010  &  0.2006034  & -0.1109359  &  0.05889051 &  0.19733400 & -0.1999284  & -0.6954800  &  0.6870221  &  0.8680793 \\\\\n",
       "\t  0.2642694  &  0.5005900  &  0.6610464  & -0.2576512  & -0.1276025  & -0.41694480 &  0.02727955 & -1.1013536  &  1.3597107  &  0.6950005  &  0.5641043 \\\\\n",
       "\\end{tabular}\n"
      ],
      "text/markdown": [
       "\n",
       "| age | sex | cp | trestbps | chol | fbs | restecg | thalach | exang | oldpeak | slope |\n",
       "|---|---|---|---|---|---|---|---|---|---|---|\n",
       "|  0.5271185  | -1.0559139  | -0.2709133  |  0.1765276  |  0.6747031  | -0.03627655 |  0.26547327 |  0.2661269  | -0.5150910  | -0.5946656  | -0.6721873  |\n",
       "| -0.8670423  |  0.3356882  | -0.3244128  | -0.3603932  | -0.3777826  | -0.15911975 | -0.44129776 |  0.7282205  | -0.4348363  | -0.5675703  | -0.6766779  |\n",
       "|  0.1040382  | -0.2742225  |  0.7328761  |  0.9659165  |  0.3848746  |  1.32559691 |  0.49514957 | -0.3928555  |  1.2129114  |  0.3400976  |  0.7599571  |\n",
       "|  0.6021258  |  0.1410120  | -0.2003010  |  0.2006034  | -0.1109359  |  0.05889051 |  0.19733400 | -0.1999284  | -0.6954800  |  0.6870221  |  0.8680793  |\n",
       "|  0.2642694  |  0.5005900  |  0.6610464  | -0.2576512  | -0.1276025  | -0.41694480 |  0.02727955 | -1.1013536  |  1.3597107  |  0.6950005  |  0.5641043  |\n",
       "\n"
      ],
      "text/plain": [
       "  age        sex        cp         trestbps   chol       fbs        \n",
       "1  0.5271185 -1.0559139 -0.2709133  0.1765276  0.6747031 -0.03627655\n",
       "2 -0.8670423  0.3356882 -0.3244128 -0.3603932 -0.3777826 -0.15911975\n",
       "3  0.1040382 -0.2742225  0.7328761  0.9659165  0.3848746  1.32559691\n",
       "4  0.6021258  0.1410120 -0.2003010  0.2006034 -0.1109359  0.05889051\n",
       "5  0.2642694  0.5005900  0.6610464 -0.2576512 -0.1276025 -0.41694480\n",
       "  restecg     thalach    exang      oldpeak    slope     \n",
       "1  0.26547327  0.2661269 -0.5150910 -0.5946656 -0.6721873\n",
       "2 -0.44129776  0.7282205 -0.4348363 -0.5675703 -0.6766779\n",
       "3  0.49514957 -0.3928555  1.2129114  0.3400976  0.7599571\n",
       "4  0.19733400 -0.1999284 -0.6954800  0.6870221  0.8680793\n",
       "5  0.02727955 -1.1013536  1.3597107  0.6950005  0.5641043"
      ]
     },
     "metadata": {},
     "output_type": "display_data"
    }
   ],
   "source": [
    "# Cluster means \n",
    "deuxieme_clust$centers"
   ]
  },
  {
   "cell_type": "code",
   "execution_count": 14,
   "metadata": {},
   "outputs": [
    {
     "data": {
      "text/html": [
       "<ol class=list-inline>\n",
       "\t<li>41</li>\n",
       "\t<li>53</li>\n",
       "\t<li>42</li>\n",
       "\t<li>56</li>\n",
       "\t<li>33</li>\n",
       "\t<li>78</li>\n",
       "</ol>\n"
      ],
      "text/latex": [
       "\\begin{enumerate*}\n",
       "\\item 41\n",
       "\\item 53\n",
       "\\item 42\n",
       "\\item 56\n",
       "\\item 33\n",
       "\\item 78\n",
       "\\end{enumerate*}\n"
      ],
      "text/markdown": [
       "1. 41\n",
       "2. 53\n",
       "3. 42\n",
       "4. 56\n",
       "5. 33\n",
       "6. 78\n",
       "\n",
       "\n"
      ],
      "text/plain": [
       "[1] 41 53 42 56 33 78"
      ]
     },
     "metadata": {},
     "output_type": "display_data"
    }
   ],
   "source": [
    "seed_val <- 123 \n",
    "set.seed(seed_val)\n",
    "\n",
    "# selectionner le nombre des clusters\n",
    "k <- 6\n",
    "\n",
    "# Exécuter le K-means algorithme: Ce dernière prend trois arguments principaux : la matrice de données, le nombre de clusters, et le nombre d’itérations de l'algorithme\n",
    "troisieme_clust <- kmeans(scaled, centers = k, nstart = 25)\n",
    "troisieme_clust$size"
   ]
  },
  {
   "cell_type": "markdown",
   "metadata": {},
   "source": [
    " # $\\color{#3396FF}{\\text{5. Comparing patient clusters }}$"
   ]
  },
  {
   "cell_type": "markdown",
   "metadata": {},
   "source": [
    "Il est important que les clusters résultant de l'algorithme des k-moyennes soient stables. Même si l'algorithme commence par initialiser de manière aléatoire les centres de cluster, si l'algorithme k-means est le bon choix pour les données, alors différentes initialisations de l'algorithme donneront des clusters similaires.\n",
    "\n",
    "Les clusters de différentes itérations peuvent ne pas être exactement les mêmes, mais les clusters doivent avoir à peu près la même taille et avoir des distributions de variables similaires. \n",
    "\n",
    "Nous allons utiliser quelques visualisations pour avoir une idée des stabilités du cluster. De cette façon, nous pouvons voir comment certaines caractéristiques des patients ont pu être utilisées pour regrouper les patients."
   ]
  },
  {
   "cell_type": "code",
   "execution_count": 15,
   "metadata": {},
   "outputs": [
    {
     "name": "stdout",
     "output_type": "stream",
     "text": [
      "\n",
      "  There is a binary version available but the source version is later:\n",
      "      binary source needs_compilation\n",
      "rlang 0.4.11 0.4.12              TRUE\n",
      "\n",
      "  Binaries will be installed\n",
      "package 'rlang' successfully unpacked and MD5 sums checked\n",
      "\n",
      "The downloaded binary packages are in\n",
      "\tC:\\Users\\asus\\AppData\\Local\\Temp\\RtmpSwU5li\\downloaded_packages\n"
     ]
    }
   ],
   "source": [
    "install.packages (\"rlang\")"
   ]
  },
  {
   "cell_type": "code",
   "execution_count": 16,
   "metadata": {},
   "outputs": [
    {
     "name": "stderr",
     "output_type": "stream",
     "text": [
      "also installing the dependencies 'proxy', 'png', 'jpeg', 'checkmate', 'viridisLite', 'Rcpp', 'matrixStats', 'RcppArmadillo', 'e1071', 'wk', 'processx', 'rprojroot', 'rematch2', 'rex', 'systemfonts', 'textshaping', 'survival', 'Formula', 'latticeExtra', 'gridExtra', 'htmlTable', 'viridis', 'deldir', 'RcppEigen', 'sp', 'mvtnorm', 'TH.data', 'sandwich', 'SparseM', 'MatrixModels', 'conquer', 'classInt', 's2', 'units', 'cpp11', 'brio', 'callr', 'cli', 'desc', 'ellipsis', 'lifecycle', 'pkgload', 'praise', 'ps', 'waldo', 'withr', 'diffobj', 'isoband', 'covr', 'ragg', 'ggplot2movies', 'Hmisc', 'interp', 'mapproj', 'maptools', 'multcomp', 'profvis', 'quantreg', 'rgeos', 'sf', 'svglite', 'testthat', 'vdiffr'\n",
      "\n"
     ]
    },
    {
     "name": "stdout",
     "output_type": "stream",
     "text": [
      "\n",
      "  There are binary versions available but the source versions are later:\n",
      "                  binary     source needs_compilation\n",
      "proxy             0.4-25     0.4-26              TRUE\n",
      "jpeg             0.1-8.1      0.1-9              TRUE\n",
      "Rcpp               1.0.6      1.0.7              TRUE\n",
      "matrixStats       0.58.0     0.61.0              TRUE\n",
      "RcppArmadillo 0.10.4.0.0 0.10.7.3.0              TRUE\n",
      "e1071              1.7-6      1.7-9              TRUE\n",
      "wk                 0.4.1      0.5.0              TRUE\n",
      "rex                1.2.0      1.2.1             FALSE\n",
      "systemfonts        1.0.2      1.0.3              TRUE\n",
      "textshaping        0.3.4      0.3.6              TRUE\n",
      "survival          3.2-11     3.2-13              TRUE\n",
      "htmlTable          2.1.0      2.3.0             FALSE\n",
      "viridis            0.6.1      0.6.2             FALSE\n",
      "deldir            0.2-10      1.0-6              TRUE\n",
      "sp                 1.4-5      1.4-6              TRUE\n",
      "mvtnorm            1.1-1      1.1-3              TRUE\n",
      "TH.data           1.0-10      1.1-0             FALSE\n",
      "sandwich           3.0-0      3.0-1             FALSE\n",
      "conquer            1.0.2      1.2.1              TRUE\n",
      "s2                 1.0.4      1.0.7              TRUE\n",
      "units              0.7-1      0.7-2              TRUE\n",
      "cpp11              0.2.7      0.4.2             FALSE\n",
      "brio               1.1.2      1.1.3              TRUE\n",
      "cli                2.5.0      3.1.0              TRUE\n",
      "desc               1.3.0      1.4.0             FALSE\n",
      "lifecycle          1.0.0      1.0.1             FALSE\n",
      "pkgload            1.2.1      1.2.4             FALSE\n",
      "waldo              0.2.5      0.3.1             FALSE\n",
      "withr              2.4.2      2.4.3             FALSE\n",
      "diffobj            0.3.4      0.3.5              TRUE\n",
      "isoband            0.2.4      0.2.5              TRUE\n",
      "ragg               1.1.2      1.2.0              TRUE\n",
      "Hmisc              4.5-0      4.6-0              TRUE\n",
      "maptools           1.1-1      1.1-2              TRUE\n",
      "quantreg            5.85       5.86              TRUE\n",
      "rgeos              0.5-5      0.5-8              TRUE\n",
      "sf                 0.9-8      1.0-4              TRUE\n",
      "testthat           3.0.2      3.1.1              TRUE\n",
      "vdiffr             0.3.3      1.0.2              TRUE\n",
      "ggplot2            3.3.3      3.3.5             FALSE\n",
      "\n",
      "  Binaries will be installed\n",
      "package 'proxy' successfully unpacked and MD5 sums checked\n",
      "package 'png' successfully unpacked and MD5 sums checked\n",
      "package 'jpeg' successfully unpacked and MD5 sums checked\n",
      "package 'checkmate' successfully unpacked and MD5 sums checked\n",
      "package 'viridisLite' successfully unpacked and MD5 sums checked\n",
      "package 'Rcpp' successfully unpacked and MD5 sums checked\n"
     ]
    },
    {
     "name": "stderr",
     "output_type": "stream",
     "text": [
      "Warning message:\n",
      "\"cannot remove prior installation of package 'Rcpp'\"Warning message in file.copy(savedcopy, lib, recursive = TRUE):\n",
      "\"problème lors de la copie de C:\\Users\\asus\\.conda\\envs\\r-tutorial\\Lib\\R\\library\\00LOCK\\Rcpp\\libs\\x64\\Rcpp.dll vers C:\\Users\\asus\\.conda\\envs\\r-tutorial\\Lib\\R\\library\\Rcpp\\libs\\x64\\Rcpp.dll: Permission denied\"Warning message:\n",
      "\"restored 'Rcpp'\""
     ]
    },
    {
     "name": "stdout",
     "output_type": "stream",
     "text": [
      "package 'matrixStats' successfully unpacked and MD5 sums checked\n",
      "package 'RcppArmadillo' successfully unpacked and MD5 sums checked\n",
      "package 'e1071' successfully unpacked and MD5 sums checked\n",
      "package 'wk' successfully unpacked and MD5 sums checked\n",
      "package 'processx' successfully unpacked and MD5 sums checked\n",
      "package 'rprojroot' successfully unpacked and MD5 sums checked\n",
      "package 'rematch2' successfully unpacked and MD5 sums checked\n",
      "package 'systemfonts' successfully unpacked and MD5 sums checked\n",
      "package 'textshaping' successfully unpacked and MD5 sums checked\n",
      "package 'survival' successfully unpacked and MD5 sums checked\n",
      "package 'Formula' successfully unpacked and MD5 sums checked\n",
      "package 'latticeExtra' successfully unpacked and MD5 sums checked\n",
      "package 'gridExtra' successfully unpacked and MD5 sums checked\n",
      "package 'deldir' successfully unpacked and MD5 sums checked\n",
      "package 'RcppEigen' successfully unpacked and MD5 sums checked\n",
      "package 'sp' successfully unpacked and MD5 sums checked\n",
      "package 'mvtnorm' successfully unpacked and MD5 sums checked\n",
      "package 'SparseM' successfully unpacked and MD5 sums checked\n",
      "package 'MatrixModels' successfully unpacked and MD5 sums checked\n",
      "package 'conquer' successfully unpacked and MD5 sums checked\n",
      "package 'classInt' successfully unpacked and MD5 sums checked\n",
      "package 's2' successfully unpacked and MD5 sums checked\n",
      "package 'units' successfully unpacked and MD5 sums checked\n",
      "package 'brio' successfully unpacked and MD5 sums checked\n",
      "package 'callr' successfully unpacked and MD5 sums checked\n",
      "package 'cli' successfully unpacked and MD5 sums checked\n",
      "package 'ellipsis' successfully unpacked and MD5 sums checked\n",
      "package 'praise' successfully unpacked and MD5 sums checked\n",
      "package 'ps' successfully unpacked and MD5 sums checked\n",
      "package 'diffobj' successfully unpacked and MD5 sums checked\n",
      "package 'isoband' successfully unpacked and MD5 sums checked\n",
      "package 'covr' successfully unpacked and MD5 sums checked\n",
      "package 'ragg' successfully unpacked and MD5 sums checked\n",
      "package 'ggplot2movies' successfully unpacked and MD5 sums checked\n",
      "package 'Hmisc' successfully unpacked and MD5 sums checked\n",
      "package 'interp' successfully unpacked and MD5 sums checked\n",
      "package 'mapproj' successfully unpacked and MD5 sums checked\n",
      "package 'maptools' successfully unpacked and MD5 sums checked\n",
      "package 'multcomp' successfully unpacked and MD5 sums checked\n",
      "package 'profvis' successfully unpacked and MD5 sums checked\n",
      "package 'quantreg' successfully unpacked and MD5 sums checked\n",
      "package 'rgeos' successfully unpacked and MD5 sums checked\n",
      "package 'sf' successfully unpacked and MD5 sums checked\n",
      "package 'svglite' successfully unpacked and MD5 sums checked\n",
      "package 'testthat' successfully unpacked and MD5 sums checked\n",
      "package 'vdiffr' successfully unpacked and MD5 sums checked\n",
      "\n",
      "The downloaded binary packages are in\n",
      "\tC:\\Users\\asus\\AppData\\Local\\Temp\\RtmpSwU5li\\downloaded_packages\n"
     ]
    },
    {
     "name": "stderr",
     "output_type": "stream",
     "text": [
      "installing the source packages 'rex', 'htmlTable', 'viridis', 'TH.data', 'sandwich', 'cpp11', 'desc', 'lifecycle', 'pkgload', 'waldo', 'withr', 'ggplot2'\n",
      "\n"
     ]
    }
   ],
   "source": [
    "install.packages(\"ggplot2\", dependencies = TRUE)"
   ]
  },
  {
   "cell_type": "code",
   "execution_count": 17,
   "metadata": {},
   "outputs": [
    {
     "data": {
      "image/png": "[encoded data removed]",
      "text/plain": [
       "plot without title"
      ]
     },
     "metadata": {},
     "output_type": "display_data"
    }
   ],
   "source": [
    "heart_disease['premier_clust'] = premier_clust$cluster\n",
    "\n",
    "# load ggplot2 : C'est une librairie R de visualisation de données\n",
    "library(ggplot2)\n",
    "\n",
    "#Creation d'affichage d'attribut age et chol de premier algorithme de clustering\n",
    "plot_one <-\n",
    "  ggplot(heart_disease, aes(x = age,y = chol,color = as.factor(premier_clust))) +\n",
    "  geom_point()+ #Le geom_point() est utilisé pour créer des nuages de points qui est très utile pour afficher la relation entre deux variables continues\n",
    "  ggtitle(\"Premier cluster\")\n",
    "\n",
    "plot_one\n",
    "\n"
   ]
  },
  {
   "cell_type": "code",
   "execution_count": 18,
   "metadata": {},
   "outputs": [
    {
     "data": {
      "image/png": "[encoded data removed]",
      "text/plain": [
       "plot without title"
      ]
     },
     "metadata": {},
     "output_type": "display_data"
    }
   ],
   "source": [
    "heart_disease['deuxieme_clust'] = deuxieme_clust$cluster\n",
    "\n",
    "# load ggplot2 : C'est une librairie R de visualisation de données\n",
    "library(ggplot2)\n",
    "#Creation d'affichage d'attribut age et chol de deuxieme algorithme de clustering\n",
    "plot_two <-\n",
    "  ggplot(heart_disease, aes(x = age,y = chol,color = as.factor(deuxieme_clust))) +\n",
    "  geom_point()+\n",
    "  ggtitle(\"Deuxieme cluster\")\n",
    "\n",
    "plot_two"
   ]
  },
  {
   "cell_type": "code",
   "execution_count": 19,
   "metadata": {},
   "outputs": [
    {
     "data": {
      "image/png": "[encoded data removed]",
      "text/plain": [
       "plot without title"
      ]
     },
     "metadata": {},
     "output_type": "display_data"
    }
   ],
   "source": [
    "heart_disease['troisieme_clust'] = troisieme_clust$cluster\n",
    "\n",
    "# load ggplot2 : C'est une librairie R de visualisation de données\n",
    "library(ggplot2)\n",
    "#Creation d'affichage d'attribut age et chol de deuxieme algorithme de clustering\n",
    "plot_three <-\n",
    "  ggplot(heart_disease, aes(x = age,y = chol,color = as.factor(troisieme_clust))) +\n",
    "  geom_point()+\n",
    "  ggtitle(\"troisieme_clust cluster\")\n",
    "\n",
    "plot_three"
   ]
  },
  {
   "cell_type": "markdown",
   "metadata": {},
   "source": [
    "# $\\color{#3396FF}{\\text{6. Hierarchical clustering: another clustering approach}}$"
   ]
  },
  {
   "cell_type": "markdown",
   "metadata": {},
   "source": [
    "Hierarchical clustering, également connu sous le nom hierarchical cluster analysis, est un algorithme qui regroupe des objets similaires en groupes appelés clusters . Le point de terminaison est un ensemble de clusters , où chaque cluster est distinct des autres clusters, et les objets au sein de chaque cluster sont largement similaires les uns aux autres.\n",
    "\n",
    "Le clustering hiérarchique commence par traiter chaque observation comme un cluster distinct. Ensuite, il exécute à plusieurs reprises les deux étapes suivantes : \n",
    "\n",
    "(1) identifier les deux clusters les plus proches \n",
    "\n",
    "(2) fusionner les deux clusters les plus similaires. \n",
    "\n",
    "Ce processus itératif se poursuit jusqu'à ce que tous les clusters soient fusionnés.\n",
    "\n",
    "La sortie principale du clustering hiérarchique est un dendrogramme , qui montre la relation hiérarchique entre les clusters:Il  permet de voir à quel point les observations sont similaires les unes aux autres et sont utiles pour sélectionner le nombre de grappes pour regrouper les données."
   ]
  },
  {
   "cell_type": "markdown",
   "metadata": {},
   "source": [
    "Il existe plusieurs façons de mesurer la distance entre les clusters afin de décider des règles de clustering, et elles sont souvent appelées méthodes de liaison. Certaines des méthodes de liaison courantes sont :\n",
    "\n",
    "* Liaison complète : calcule la distance maximale entre les clusters avant la fusion.\n",
    "\n",
    "* Liaison unique : calcule la distance minimale entre les clusters avant la fusion. Ce lien peut être utilisé pour détecter des valeurs élevées dans votre ensemble de données qui peuvent être des valeurs aberrantes car elles seront fusionnées à la fin.\n",
    "\n",
    "* Lien moyen : calcule la distance moyenne entre les clusters avant la fusion.\n",
    "\n",
    "* Lien de centroïde : recherche le centroïde du cluster 1 et le centroïde du cluster 2, puis calcule la distance entre les deux avant de fusionner.\n"
   ]
  },
  {
   "cell_type": "code",
   "execution_count": 20,
   "metadata": {},
   "outputs": [
    {
     "data": {
      "image/png": "[encoded data removed]",
      "text/plain": [
       "Plot with title \"Cluster Dendrogram\""
      ]
     },
     "metadata": {},
     "output_type": "display_data"
    }
   ],
   "source": [
    "# executing hierarchical clustering with complete linkage\n",
    "hier_clust_1 <- hclust(dist(scaled), method = \"complete\")\n",
    "\n",
    "# printing the dendrogram\n",
    "plot(hier_clust_1)\n",
    "\n",
    "# getting cluster assignments based on number of selected clusters\n",
    "hc_1_assign <- cutree(hier_clust_1, 5)"
   ]
  },
  {
   "cell_type": "code",
   "execution_count": 21,
   "metadata": {},
   "outputs": [
    {
     "data": {
      "image/png": "[encoded data removed]",
      "text/plain": [
       "Plot with title \"Cluster Dendrogram\""
      ]
     },
     "metadata": {},
     "output_type": "display_data"
    }
   ],
   "source": [
    "# executing hierarchical clustering with complete linkage\n",
    "hier_clust_11 <- hclust(dist(scaled), method = \"complete\")\n",
    "\n",
    "# printing the dendrogram\n",
    "plot(hier_clust_11)\n",
    "\n",
    "# getting cluster assignments based on number of selected clusters\n",
    "hc_11_assign <- cutree(hier_clust_11, 4)"
   ]
  },
  {
   "cell_type": "markdown",
   "metadata": {},
   "source": [
    " # $\\color{#3396FF}{\\text{7. Hierarchical clustering round two   }}$\n"
   ]
  },
  {
   "cell_type": "markdown",
   "metadata": {},
   "source": [
    "Nous voulons explorer différents algorithmes pour regrouper nos patients cardiaques. La meilleure façon de mesurer la dissemblance entre les patients pourrait être d'examiner la plus petite différence entre les patients et de minimiser cette différence lors du regroupement des grappes. C'est toujours une bonne idée d'explorer différentes mesures de dissemblance. Implémentons le clustering hiérarchique à l'aide d'une nouvelle fonction de liaison."
   ]
  },
  {
   "cell_type": "code",
   "execution_count": 22,
   "metadata": {},
   "outputs": [
    {
     "data": {
      "image/png": "[encoded data removed]",
      "text/plain": [
       "Plot with title \"Cluster Dendrogram\""
      ]
     },
     "metadata": {},
     "output_type": "display_data"
    }
   ],
   "source": [
    "# executing hierarchical clustering with complete linkage\n",
    "hier_clust_2 <- hclust(dist(scaled), method = \"single\")\n",
    "\n",
    "# printing the dendrogram\n",
    "plot(hier_clust_2)\n",
    "\n",
    "# getting cluster assignments based on number of selected clusters\n",
    "hc_2_assign <- cutree(hier_clust_2, 5)"
   ]
  },
  {
   "cell_type": "markdown",
   "metadata": {},
   "source": [
    "# $\\color{#3396FF}{\\text{8. Comparing clustering results  }}$"
   ]
  },
  {
   "cell_type": "markdown",
   "metadata": {},
   "source": [
    "Les médecins sont intéressés à regrouper des patients similaires afin de déterminer les traitements appropriés. Par conséquent, ils veulent avoir des groupes avec plus de quelques patients pour voir différentes options de traitement. Bien qu'il soit possible qu'un patient soit seul dans un groupe, cela signifie que le traitement qu'il a reçu pourrait ne pas être recommandé pour quelqu'un d'autre dans le groupe.\n",
    "\n",
    "Nous allons examiner les clusters résultant des deux algorithmes hiérarchiques pour les evaluer "
   ]
  },
  {
   "cell_type": "code",
   "execution_count": 23,
   "metadata": {},
   "outputs": [
    {
     "data": {
      "text/html": [
       "<table>\n",
       "<thead><tr><th scope=col>hc_clust</th><th scope=col>age.avg</th><th scope=col>age.sd</th><th scope=col>cp.avg</th><th scope=col>cp.sd</th><th scope=col>trestbps.avg</th><th scope=col>trestbps.sd</th><th scope=col>chol.avg</th><th scope=col>chol.sd</th><th scope=col>fbs.avg</th><th scope=col>...</th><th scope=col>thalach.avg</th><th scope=col>thalach.sd</th><th scope=col>exang.avg</th><th scope=col>exang.sd</th><th scope=col>oldpeak.avg</th><th scope=col>oldpeak.sd</th><th scope=col>slope.avg</th><th scope=col>slope.sd</th><th scope=col>troisieme_clust.avg</th><th scope=col>troisieme_clust.sd</th></tr></thead>\n",
       "<tbody>\n",
       "\t<tr><td>1         </td><td>51.41667  </td><td>8.540979  </td><td>2.783333  </td><td>0.9470625 </td><td>129.1389  </td><td>15.93800  </td><td>239.8722  </td><td>42.29228  </td><td>0.1222222 </td><td>...       </td><td>161.5722  </td><td>15.779214 </td><td>0.07777778</td><td>0.2685686 </td><td>0.555000  </td><td>0.7847196 </td><td>1.388889  </td><td>0.5730336 </td><td>3.983333  </td><td>1.938942  </td></tr>\n",
       "\t<tr><td>2         </td><td>58.11111  </td><td>7.754246  </td><td>3.763889  </td><td>0.6165112 </td><td>130.0417  </td><td>13.90657  </td><td>253.2222  </td><td>49.74476  </td><td>0.1805556 </td><td>...       </td><td>135.5417  </td><td>17.991342 </td><td>0.81944444</td><td>0.3873488 </td><td>1.451389  </td><td>1.0804268 </td><td>1.750000  </td><td>0.5240686 </td><td>3.263889  </td><td>1.363437  </td></tr>\n",
       "\t<tr><td>3         </td><td>61.00000  </td><td>3.908034  </td><td>3.916667  </td><td>0.2886751 </td><td>168.5000  </td><td>17.45904  </td><td>284.9167  </td><td>53.00336  </td><td>0.3333333 </td><td>...       </td><td>147.7500  </td><td>13.157266 </td><td>0.75000000</td><td>0.4522670 </td><td>2.316667  </td><td>1.4708274 </td><td>2.166667  </td><td>0.5773503 </td><td>3.250000  </td><td>1.864745  </td></tr>\n",
       "\t<tr><td>4         </td><td>59.00000  </td><td>9.203580  </td><td>3.571429  </td><td>0.8501112 </td><td>134.7714  </td><td>18.64070  </td><td>233.8571  </td><td>49.67136  </td><td>0.1428571 </td><td>...       </td><td>116.8857  </td><td>17.842071 </td><td>0.48571429</td><td>0.5070926 </td><td>2.240000  </td><td>1.3856831 </td><td>2.200000  </td><td>0.4058397 </td><td>3.742857  </td><td>1.335992  </td></tr>\n",
       "\t<tr><td>5         </td><td>64.75000  </td><td>2.061553  </td><td>3.250000  </td><td>0.5000000 </td><td>138.7500  </td><td>18.42779  </td><td>433.7500  </td><td>89.93470  </td><td>0.2500000 </td><td>...       </td><td>156.2500  </td><td> 3.774917 </td><td>0.00000000</td><td>0.0000000 </td><td>1.100000  </td><td>0.3829708 </td><td>1.500000  </td><td>0.5773503 </td><td>2.000000  </td><td>0.000000  </td></tr>\n",
       "</tbody>\n",
       "</table>\n"
      ],
      "text/latex": [
       "\\begin{tabular}{r|lllllllllllllllllllllll}\n",
       " hc\\_clust & age.avg & age.sd & cp.avg & cp.sd & trestbps.avg & trestbps.sd & chol.avg & chol.sd & fbs.avg & ... & thalach.avg & thalach.sd & exang.avg & exang.sd & oldpeak.avg & oldpeak.sd & slope.avg & slope.sd & troisieme\\_clust.avg & troisieme\\_clust.sd\\\\\n",
       "\\hline\n",
       "\t 1          & 51.41667   & 8.540979   & 2.783333   & 0.9470625  & 129.1389   & 15.93800   & 239.8722   & 42.29228   & 0.1222222  & ...        & 161.5722   & 15.779214  & 0.07777778 & 0.2685686  & 0.555000   & 0.7847196  & 1.388889   & 0.5730336  & 3.983333   & 1.938942  \\\\\n",
       "\t 2          & 58.11111   & 7.754246   & 3.763889   & 0.6165112  & 130.0417   & 13.90657   & 253.2222   & 49.74476   & 0.1805556  & ...        & 135.5417   & 17.991342  & 0.81944444 & 0.3873488  & 1.451389   & 1.0804268  & 1.750000   & 0.5240686  & 3.263889   & 1.363437  \\\\\n",
       "\t 3          & 61.00000   & 3.908034   & 3.916667   & 0.2886751  & 168.5000   & 17.45904   & 284.9167   & 53.00336   & 0.3333333  & ...        & 147.7500   & 13.157266  & 0.75000000 & 0.4522670  & 2.316667   & 1.4708274  & 2.166667   & 0.5773503  & 3.250000   & 1.864745  \\\\\n",
       "\t 4          & 59.00000   & 9.203580   & 3.571429   & 0.8501112  & 134.7714   & 18.64070   & 233.8571   & 49.67136   & 0.1428571  & ...        & 116.8857   & 17.842071  & 0.48571429 & 0.5070926  & 2.240000   & 1.3856831  & 2.200000   & 0.4058397  & 3.742857   & 1.335992  \\\\\n",
       "\t 5          & 64.75000   & 2.061553   & 3.250000   & 0.5000000  & 138.7500   & 18.42779   & 433.7500   & 89.93470   & 0.2500000  & ...        & 156.2500   &  3.774917  & 0.00000000 & 0.0000000  & 1.100000   & 0.3829708  & 1.500000   & 0.5773503  & 2.000000   & 0.000000  \\\\\n",
       "\\end{tabular}\n"
      ],
      "text/markdown": [
       "\n",
       "| hc_clust | age.avg | age.sd | cp.avg | cp.sd | trestbps.avg | trestbps.sd | chol.avg | chol.sd | fbs.avg | ... | thalach.avg | thalach.sd | exang.avg | exang.sd | oldpeak.avg | oldpeak.sd | slope.avg | slope.sd | troisieme_clust.avg | troisieme_clust.sd |\n",
       "|---|---|---|---|---|---|---|---|---|---|---|---|---|---|---|---|---|---|---|---|---|\n",
       "| 1          | 51.41667   | 8.540979   | 2.783333   | 0.9470625  | 129.1389   | 15.93800   | 239.8722   | 42.29228   | 0.1222222  | ...        | 161.5722   | 15.779214  | 0.07777778 | 0.2685686  | 0.555000   | 0.7847196  | 1.388889   | 0.5730336  | 3.983333   | 1.938942   |\n",
       "| 2          | 58.11111   | 7.754246   | 3.763889   | 0.6165112  | 130.0417   | 13.90657   | 253.2222   | 49.74476   | 0.1805556  | ...        | 135.5417   | 17.991342  | 0.81944444 | 0.3873488  | 1.451389   | 1.0804268  | 1.750000   | 0.5240686  | 3.263889   | 1.363437   |\n",
       "| 3          | 61.00000   | 3.908034   | 3.916667   | 0.2886751  | 168.5000   | 17.45904   | 284.9167   | 53.00336   | 0.3333333  | ...        | 147.7500   | 13.157266  | 0.75000000 | 0.4522670  | 2.316667   | 1.4708274  | 2.166667   | 0.5773503  | 3.250000   | 1.864745   |\n",
       "| 4          | 59.00000   | 9.203580   | 3.571429   | 0.8501112  | 134.7714   | 18.64070   | 233.8571   | 49.67136   | 0.1428571  | ...        | 116.8857   | 17.842071  | 0.48571429 | 0.5070926  | 2.240000   | 1.3856831  | 2.200000   | 0.4058397  | 3.742857   | 1.335992   |\n",
       "| 5          | 64.75000   | 2.061553   | 3.250000   | 0.5000000  | 138.7500   | 18.42779   | 433.7500   | 89.93470   | 0.2500000  | ...        | 156.2500   |  3.774917  | 0.00000000 | 0.0000000  | 1.100000   | 0.3829708  | 1.500000   | 0.5773503  | 2.000000   | 0.000000   |\n",
       "\n"
      ],
      "text/plain": [
       "  hc_clust age.avg  age.sd   cp.avg   cp.sd     trestbps.avg trestbps.sd\n",
       "1 1        51.41667 8.540979 2.783333 0.9470625 129.1389     15.93800   \n",
       "2 2        58.11111 7.754246 3.763889 0.6165112 130.0417     13.90657   \n",
       "3 3        61.00000 3.908034 3.916667 0.2886751 168.5000     17.45904   \n",
       "4 4        59.00000 9.203580 3.571429 0.8501112 134.7714     18.64070   \n",
       "5 5        64.75000 2.061553 3.250000 0.5000000 138.7500     18.42779   \n",
       "  chol.avg chol.sd  fbs.avg   ... thalach.avg thalach.sd exang.avg  exang.sd \n",
       "1 239.8722 42.29228 0.1222222 ... 161.5722    15.779214  0.07777778 0.2685686\n",
       "2 253.2222 49.74476 0.1805556 ... 135.5417    17.991342  0.81944444 0.3873488\n",
       "3 284.9167 53.00336 0.3333333 ... 147.7500    13.157266  0.75000000 0.4522670\n",
       "4 233.8571 49.67136 0.1428571 ... 116.8857    17.842071  0.48571429 0.5070926\n",
       "5 433.7500 89.93470 0.2500000 ... 156.2500     3.774917  0.00000000 0.0000000\n",
       "  oldpeak.avg oldpeak.sd slope.avg slope.sd  troisieme_clust.avg\n",
       "1 0.555000    0.7847196  1.388889  0.5730336 3.983333           \n",
       "2 1.451389    1.0804268  1.750000  0.5240686 3.263889           \n",
       "3 2.316667    1.4708274  2.166667  0.5773503 3.250000           \n",
       "4 2.240000    1.3856831  2.200000  0.4058397 3.742857           \n",
       "5 1.100000    0.3829708  1.500000  0.5773503 2.000000           \n",
       "  troisieme_clust.sd\n",
       "1 1.938942          \n",
       "2 1.363437          \n",
       "3 1.864745          \n",
       "4 1.335992          \n",
       "5 0.000000          "
      ]
     },
     "metadata": {},
     "output_type": "display_data"
    }
   ],
   "source": [
    "# adding assignments of chosen hierarchical linkage\n",
    "heart_disease$hc_clust <- hc_1_assign\n",
    "\n",
    "# remove 'sex', 'first_clust', and 'second_clust' variables\n",
    "hd_simple <-\n",
    "  heart_disease[,!(names(heart_disease) %in% c(\"sex\", \"premier_clust\", \"deuxieme_clust\"))]\n",
    "\n",
    "# getting mean and standard deviation summary statistics\n",
    "clust_summary <-\n",
    "  do.call(data.frame,\n",
    "  aggregate(. ~ hc_clust, data = hd_simple, function(x)\n",
    "  c(avg = mean(x), sd = sd(x))))\n",
    "clust_summary"
   ]
  },
  {
   "cell_type": "code",
   "execution_count": 24,
   "metadata": {},
   "outputs": [
    {
     "data": {
      "text/html": [
       "<table>\n",
       "<thead><tr><th scope=col>hcc_clust</th><th scope=col>age.avg</th><th scope=col>age.sd</th><th scope=col>cp.avg</th><th scope=col>cp.sd</th><th scope=col>trestbps.avg</th><th scope=col>trestbps.sd</th><th scope=col>chol.avg</th><th scope=col>chol.sd</th><th scope=col>fbs.avg</th><th scope=col>...</th><th scope=col>exang.avg</th><th scope=col>exang.sd</th><th scope=col>oldpeak.avg</th><th scope=col>oldpeak.sd</th><th scope=col>slope.avg</th><th scope=col>slope.sd</th><th scope=col>troisieme_clust.avg</th><th scope=col>troisieme_clust.sd</th><th scope=col>hc_clust.avg</th><th scope=col>hc_clust.sd</th></tr></thead>\n",
       "<tbody>\n",
       "\t<tr><td>1        </td><td>53.32937 </td><td>8.843856 </td><td>3.063492 </td><td>0.9716789</td><td>129.3968 </td><td>15.36311 </td><td>243.6865 </td><td>44.85587 </td><td>0.1388889</td><td>...      </td><td>0.2896825</td><td>0.4545177</td><td>0.8111111</td><td>0.9664262</td><td>1.492063 </td><td>0.5818781</td><td>3.777778 </td><td>1.820157 </td><td>1.285714 </td><td>0.452653 </td></tr>\n",
       "\t<tr><td>2        </td><td>61.00000 </td><td>3.908034 </td><td>3.916667 </td><td>0.2886751</td><td>168.5000 </td><td>17.45904 </td><td>284.9167 </td><td>53.00336 </td><td>0.3333333</td><td>...      </td><td>0.7500000</td><td>0.4522670</td><td>2.3166667</td><td>1.4708274</td><td>2.166667 </td><td>0.5773503</td><td>3.250000 </td><td>1.864745 </td><td>3.000000 </td><td>0.000000 </td></tr>\n",
       "\t<tr><td>3        </td><td>59.00000 </td><td>9.203580 </td><td>3.571429 </td><td>0.8501112</td><td>134.7714 </td><td>18.64070 </td><td>233.8571 </td><td>49.67136 </td><td>0.1428571</td><td>...      </td><td>0.4857143</td><td>0.5070926</td><td>2.2400000</td><td>1.3856831</td><td>2.200000 </td><td>0.4058397</td><td>3.742857 </td><td>1.335992 </td><td>4.000000 </td><td>0.000000 </td></tr>\n",
       "\t<tr><td>4        </td><td>64.75000 </td><td>2.061553 </td><td>3.250000 </td><td>0.5000000</td><td>138.7500 </td><td>18.42779 </td><td>433.7500 </td><td>89.93470 </td><td>0.2500000</td><td>...      </td><td>0.0000000</td><td>0.0000000</td><td>1.1000000</td><td>0.3829708</td><td>1.500000 </td><td>0.5773503</td><td>2.000000 </td><td>0.000000 </td><td>5.000000 </td><td>0.000000 </td></tr>\n",
       "</tbody>\n",
       "</table>\n"
      ],
      "text/latex": [
       "\\begin{tabular}{r|lllllllllllllllllllllllll}\n",
       " hcc\\_clust & age.avg & age.sd & cp.avg & cp.sd & trestbps.avg & trestbps.sd & chol.avg & chol.sd & fbs.avg & ... & exang.avg & exang.sd & oldpeak.avg & oldpeak.sd & slope.avg & slope.sd & troisieme\\_clust.avg & troisieme\\_clust.sd & hc\\_clust.avg & hc\\_clust.sd\\\\\n",
       "\\hline\n",
       "\t 1         & 53.32937  & 8.843856  & 3.063492  & 0.9716789 & 129.3968  & 15.36311  & 243.6865  & 44.85587  & 0.1388889 & ...       & 0.2896825 & 0.4545177 & 0.8111111 & 0.9664262 & 1.492063  & 0.5818781 & 3.777778  & 1.820157  & 1.285714  & 0.452653 \\\\\n",
       "\t 2         & 61.00000  & 3.908034  & 3.916667  & 0.2886751 & 168.5000  & 17.45904  & 284.9167  & 53.00336  & 0.3333333 & ...       & 0.7500000 & 0.4522670 & 2.3166667 & 1.4708274 & 2.166667  & 0.5773503 & 3.250000  & 1.864745  & 3.000000  & 0.000000 \\\\\n",
       "\t 3         & 59.00000  & 9.203580  & 3.571429  & 0.8501112 & 134.7714  & 18.64070  & 233.8571  & 49.67136  & 0.1428571 & ...       & 0.4857143 & 0.5070926 & 2.2400000 & 1.3856831 & 2.200000  & 0.4058397 & 3.742857  & 1.335992  & 4.000000  & 0.000000 \\\\\n",
       "\t 4         & 64.75000  & 2.061553  & 3.250000  & 0.5000000 & 138.7500  & 18.42779  & 433.7500  & 89.93470  & 0.2500000 & ...       & 0.0000000 & 0.0000000 & 1.1000000 & 0.3829708 & 1.500000  & 0.5773503 & 2.000000  & 0.000000  & 5.000000  & 0.000000 \\\\\n",
       "\\end{tabular}\n"
      ],
      "text/markdown": [
       "\n",
       "| hcc_clust | age.avg | age.sd | cp.avg | cp.sd | trestbps.avg | trestbps.sd | chol.avg | chol.sd | fbs.avg | ... | exang.avg | exang.sd | oldpeak.avg | oldpeak.sd | slope.avg | slope.sd | troisieme_clust.avg | troisieme_clust.sd | hc_clust.avg | hc_clust.sd |\n",
       "|---|---|---|---|---|---|---|---|---|---|---|---|---|---|---|---|---|---|---|---|---|\n",
       "| 1         | 53.32937  | 8.843856  | 3.063492  | 0.9716789 | 129.3968  | 15.36311  | 243.6865  | 44.85587  | 0.1388889 | ...       | 0.2896825 | 0.4545177 | 0.8111111 | 0.9664262 | 1.492063  | 0.5818781 | 3.777778  | 1.820157  | 1.285714  | 0.452653  |\n",
       "| 2         | 61.00000  | 3.908034  | 3.916667  | 0.2886751 | 168.5000  | 17.45904  | 284.9167  | 53.00336  | 0.3333333 | ...       | 0.7500000 | 0.4522670 | 2.3166667 | 1.4708274 | 2.166667  | 0.5773503 | 3.250000  | 1.864745  | 3.000000  | 0.000000  |\n",
       "| 3         | 59.00000  | 9.203580  | 3.571429  | 0.8501112 | 134.7714  | 18.64070  | 233.8571  | 49.67136  | 0.1428571 | ...       | 0.4857143 | 0.5070926 | 2.2400000 | 1.3856831 | 2.200000  | 0.4058397 | 3.742857  | 1.335992  | 4.000000  | 0.000000  |\n",
       "| 4         | 64.75000  | 2.061553  | 3.250000  | 0.5000000 | 138.7500  | 18.42779  | 433.7500  | 89.93470  | 0.2500000 | ...       | 0.0000000 | 0.0000000 | 1.1000000 | 0.3829708 | 1.500000  | 0.5773503 | 2.000000  | 0.000000  | 5.000000  | 0.000000  |\n",
       "\n"
      ],
      "text/plain": [
       "  hcc_clust age.avg  age.sd   cp.avg   cp.sd     trestbps.avg trestbps.sd\n",
       "1 1         53.32937 8.843856 3.063492 0.9716789 129.3968     15.36311   \n",
       "2 2         61.00000 3.908034 3.916667 0.2886751 168.5000     17.45904   \n",
       "3 3         59.00000 9.203580 3.571429 0.8501112 134.7714     18.64070   \n",
       "4 4         64.75000 2.061553 3.250000 0.5000000 138.7500     18.42779   \n",
       "  chol.avg chol.sd  fbs.avg   ... exang.avg exang.sd  oldpeak.avg oldpeak.sd\n",
       "1 243.6865 44.85587 0.1388889 ... 0.2896825 0.4545177 0.8111111   0.9664262 \n",
       "2 284.9167 53.00336 0.3333333 ... 0.7500000 0.4522670 2.3166667   1.4708274 \n",
       "3 233.8571 49.67136 0.1428571 ... 0.4857143 0.5070926 2.2400000   1.3856831 \n",
       "4 433.7500 89.93470 0.2500000 ... 0.0000000 0.0000000 1.1000000   0.3829708 \n",
       "  slope.avg slope.sd  troisieme_clust.avg troisieme_clust.sd hc_clust.avg\n",
       "1 1.492063  0.5818781 3.777778            1.820157           1.285714    \n",
       "2 2.166667  0.5773503 3.250000            1.864745           3.000000    \n",
       "3 2.200000  0.4058397 3.742857            1.335992           4.000000    \n",
       "4 1.500000  0.5773503 2.000000            0.000000           5.000000    \n",
       "  hc_clust.sd\n",
       "1 0.452653   \n",
       "2 0.000000   \n",
       "3 0.000000   \n",
       "4 0.000000   "
      ]
     },
     "metadata": {},
     "output_type": "display_data"
    }
   ],
   "source": [
    "heart_disease$hcc_clust <- hc_11_assign\n",
    "\n",
    "# remove 'sex', 'first_clust', and 'second_clust' variables\n",
    "hd_simple <-\n",
    "  heart_disease[,!(names(heart_disease) %in% c(\"sex\", \"premier_clust\", \"deuxieme_clust\"))]\n",
    "\n",
    "# getting mean and standard deviation summary statistics\n",
    "clust_summary <-\n",
    "  do.call(data.frame,\n",
    "  aggregate(. ~ hcc_clust, data = hd_simple, function(x)\n",
    "  c(avg = mean(x), sd = sd(x))))\n",
    "clust_summary"
   ]
  },
  {
   "cell_type": "markdown",
   "metadata": {},
   "source": [
    "# $\\color{#3396FF}{\\text{9. Visualizing the cluster contents  }}$"
   ]
  },
  {
   "cell_type": "markdown",
   "metadata": {},
   "source": [
    "En plus d'examiner les distributions des variables dans chacune des exécutions de clustering hiérarchique, nous effectuerons des visualisations pour évaluer les algorithmes.Ceci va nous permettre d'avoir une idée de la façon dont les données se regroupent en examinant un nuage de points de deux variables."
   ]
  },
  {
   "cell_type": "code",
   "execution_count": 25,
   "metadata": {},
   "outputs": [
    {
     "data": {
      "image/png": "[encoded data removed]",
      "text/plain": [
       "plot without title"
      ]
     },
     "metadata": {},
     "output_type": "display_data"
    },
    {
     "data": {
      "image/png": "[encoded data removed]",
      "text/plain": [
       "plot without title"
      ]
     },
     "metadata": {},
     "output_type": "display_data"
    }
   ],
   "source": [
    "# plotting age and chol\n",
    "plot_one <-\n",
    "  ggplot(heart_disease, aes(\n",
    "  x = age,\n",
    "  y = chol,\n",
    "  color = as.factor(hc_clust)\n",
    "  )) +\n",
    "  geom_point()\n",
    "\n",
    "plot_one \n",
    "\n",
    "# plotting oldpeak and trestbps\n",
    "plot_two <-\n",
    "  ggplot(heart_disease, aes(\n",
    "  x = oldpeak,\n",
    "  y = trestbps,\n",
    "  color = as.factor(hc_clust)\n",
    "  )) +\n",
    "  geom_point()\n",
    "\n",
    "plot_two"
   ]
  },
  {
   "cell_type": "code",
   "execution_count": 26,
   "metadata": {},
   "outputs": [
    {
     "data": {
      "image/png": "[encoded data removed]",
      "text/plain": [
       "plot without title"
      ]
     },
     "metadata": {},
     "output_type": "display_data"
    },
    {
     "data": {
      "image/png": "[encoded data removed]",
      "text/plain": [
       "plot without title"
      ]
     },
     "metadata": {},
     "output_type": "display_data"
    }
   ],
   "source": [
    "plot_one <-\n",
    "  ggplot(heart_disease, aes(\n",
    "  x = age,\n",
    "  y = chol,\n",
    "  color = as.factor(hcc_clust)\n",
    "  )) +\n",
    "  geom_point()\n",
    "\n",
    "plot_one \n",
    "\n",
    "# plotting oldpeak and trestbps\n",
    "plot_two <-\n",
    "  ggplot(heart_disease, aes(\n",
    "  x = oldpeak,\n",
    "  y = trestbps,\n",
    "  color = as.factor(hcc_clust)\n",
    "  )) +\n",
    "  geom_point()\n",
    "\n",
    "plot_two"
   ]
  },
  {
   "cell_type": "markdown",
   "metadata": {},
   "source": [
    "# $\\color{#3396FF}{\\text{10. Conclusion }}$"
   ]
  },
  {
   "cell_type": "markdown",
   "metadata": {},
   "source": [
    "Pour l'algorithme k-means, il est impératif que des clusters similaires soient produits pour chaque itération de l'algorithme. Nous voulons nous assurer que l'algorithme regroupe le signal par opposition au bruit.\n",
    "\n",
    "Pour le bien des médecins, nous souhaitons également avoir plusieurs patients dans chaque groupe afin qu'ils puissent comparer les traitements. Nous n'avons fait que quelques travaux préliminaires pour explorer les performances des algorithmes. Il est nécessaire de créer plus de visualisations et d'explorer comment les algorithmes regroupent d'autres variables.\n",
    "\n",
    "=> Donc on doit explorer Hierarchical clustering_complete\n"
   ]
  },
  {
   "cell_type": "code",
   "execution_count": null,
   "metadata": {},
   "outputs": [],
   "source": []
  }
 ],
 "metadata": {
  "kernelspec": {
   "display_name": "R",
   "language": "R",
   "name": "ir"
  },
  "language_info": {
   "codemirror_mode": "r",
   "file_extension": ".r",
   "mimetype": "text/x-r-source",
   "name": "R",
   "pygments_lexer": "r",
   "version": "3.6.1"
  }
 },
 "nbformat": 4,
 "nbformat_minor": 5
}
